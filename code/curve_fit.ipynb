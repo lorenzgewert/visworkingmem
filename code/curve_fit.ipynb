{
 "cells": [
  {
   "cell_type": "markdown",
   "metadata": {},
   "source": [
    "Check this out https://www.youtube.com/watch?v=Jl-Ye38qkRc"
   ]
  },
  {
   "cell_type": "code",
   "execution_count": 1,
   "metadata": {},
   "outputs": [],
   "source": [
    "from pathlib import Path\n",
    "import matplotlib.pyplot as plt\n",
    "import numpy as np\n",
    "import pandas as pd\n",
    "from scipy.optimize import curve_fit\n",
    "from modules.prepro import prepro\n",
    "from modules.functions import bound_logistic, exec_timer\n",
    "%matplotlib qt"
   ]
  },
  {
   "cell_type": "code",
   "execution_count": 2,
   "metadata": {},
   "outputs": [
    {
     "name": "stdout",
     "output_type": "stream",
     "text": [
      "WARNING The directories already exist! Nothing will be done unless you delete them!\n",
      "SUCCESS Output file created or exists already!\n"
     ]
    }
   ],
   "source": [
    "# run prepro (does nothing if there is nothing to do)\n",
    "dataroot = Path(\"../data/test/4afc\")\n",
    "prepro(dataroot)\n",
    "\n",
    "# load the data\n",
    "data = pd.read_csv(f\"{dataroot}/4afc_all.csv\")\n",
    "\n",
    "# select example dataset\n",
    "name = \"eva\"\n",
    "condition = 'high'\n",
    "\n",
    "# get example x and y data\n",
    "x = data.what[(data.cat == condition) & (data.subj == name)]\n",
    "y = data.prop[(data.cat == condition) & (data.subj == name)]"
   ]
  },
  {
   "cell_type": "code",
   "execution_count": 3,
   "metadata": {},
   "outputs": [
    {
     "ename": "SyntaxError",
     "evalue": "invalid syntax (2009004946.py, line 3)",
     "output_type": "error",
     "traceback": [
      "\u001b[0;36m  Cell \u001b[0;32mIn[3], line 3\u001b[0;36m\u001b[0m\n\u001b[0;31m    logistic = bound_logistic(0.25, 1)\u001b[0m\n\u001b[0m    ^\u001b[0m\n\u001b[0;31mSyntaxError\u001b[0m\u001b[0;31m:\u001b[0m invalid syntax\n"
     ]
    }
   ],
   "source": [
    "# make a logistic function \n",
    "logistic = bound_logistic(0.25, 1)\n",
    "\n",
    "# fit the function\n",
    "popt, pcov = curve_fit(logistic, x, y, method=\"trf\", maxfev=50000)\n",
    "\n",
    "# make the model curve with higher resolution\n",
    "x_fit = np.arange(0, 0.12, 0.001)\n",
    "y_fit = logistic(x_fit, *popt)\n",
    "\n",
    "# plot the data and the model\n",
    "plt.plot(x, y, 'o', label=name)\n",
    "plt.plot(x_fit, y_fit)"
   ]
  },
  {
   "cell_type": "code",
   "execution_count": null,
   "metadata": {},
   "outputs": [],
   "source": [
    "# find nearest value in an array\n",
    "def find_nearest(array, value):\n",
    "    array = np.asarray(array)\n",
    "    idx = (np.abs(array - value)).argmin()\n",
    "    return array[idx]\n",
    "\n",
    "# plot curves for 3 in one condition\n",
    "fig, ax = plt.subplots(1, 1, figsize=(6, 4))\n",
    "\n",
    "condition = 'high'\n",
    "colors = ['blue', 'green', 'red']\n",
    "\n",
    "for i, name in enumerate(np.unique(data.subj)[:3]):\n",
    "\n",
    "    # get data for this name\n",
    "    x = np.asanyarray(data.what[(data.cat == condition) & (data.subj == name)], dtype=np.float64)\n",
    "    y = np.asanyarray(data.prop[(data.cat == condition) & (data.subj == name)], dtype=np.float64)\n",
    "\n",
    "    # fit the logistic function\n",
    "    popt, pcov = curve_fit(logistic, x, y, method=\"trf\", maxfev=50000)\n",
    "\n",
    "    # make the model curve\n",
    "    x_fit = np.arange(0, 0.12, 0.001)\n",
    "    y_fit = logistic(x_fit, *popt)\n",
    "\n",
    "    # plot\n",
    "    ax.plot(x, y, 'o', label=name, c=colors[i],)\n",
    "    ax.plot(\n",
    "        x_fit, \n",
    "        y_fit, \n",
    "        '-',  \n",
    "        c=colors[i],\n",
    "    )\n",
    "\n",
    "    thresh = x_fit[y_fit == find_nearest(y_fit,0.625)][0]\n",
    "    threshy = y_fit[y_fit == find_nearest(y_fit,0.625)][0]\n",
    "\n",
    "    ax.plot([thresh, thresh], [0.25, threshy], lw=1, label=f\"det. thresh = {np.round(thresh, 2)}\", c=colors[i],)\n",
    "\n",
    "ax.set_ylabel(\"prop. correct\")\n",
    "ax.set_xlabel('duration visible [s]')\n",
    "ax.set_ylim(0.25, 1)\n",
    "ax.legend()\n",
    "plt.show()"
   ]
  },
  {
   "cell_type": "code",
   "execution_count": null,
   "metadata": {},
   "outputs": [],
   "source": [
    "# iterate through all in both categories and collect thresholds\n",
    "conds = []\n",
    "threshs = []\n",
    "for condition in np.unique(data.cat):\n",
    "    for i, name in enumerate(np.unique(data.subj)):\n",
    "\n",
    "        # get data for this name\n",
    "        x = np.asanyarray(data.what[(data.cat == condition) & (data.subj == name)], dtype=np.float64)\n",
    "        y = np.asanyarray(data.prop[(data.cat == condition) & (data.subj == name)], dtype=np.float64)\n",
    "\n",
    "        # fit the logistic function\n",
    "        popt, pcov = curve_fit(logistic, x, y, method=\"trf\", maxfev=50000)\n",
    "\n",
    "        # make the model curve\n",
    "        x_fit = np.arange(0, 0.12, 0.001)\n",
    "        y_fit = logistic(x_fit, *popt)\n",
    "\n",
    "        thresh = x_fit[y_fit == find_nearest(y_fit,0.625)][0]\n",
    "        threshy = y_fit[y_fit == find_nearest(y_fit,0.625)][0]\n",
    "\n",
    "        conds.append(condition)\n",
    "        threshs.append(thresh)\n",
    "\n",
    "# make a dataframe \n",
    "dthresh = pd.DataFrame(np.asarray([np.asarray(conds), np.asarray(threshs)]).T, columns=('cond', 'thresh'))"
   ]
  },
  {
   "cell_type": "code",
   "execution_count": null,
   "metadata": {},
   "outputs": [
    {
     "ename": "TypeError",
     "evalue": "ufunc 'divide' not supported for the input types, and the inputs could not be safely coerced to any supported types according to the casting rule ''safe''",
     "output_type": "error",
     "traceback": [
      "\u001b[0;31m---------------------------------------------------------------------------\u001b[0m",
      "\u001b[0;31mTypeError\u001b[0m                                 Traceback (most recent call last)",
      "Cell \u001b[0;32mIn[6], line 6\u001b[0m\n\u001b[1;32m      3\u001b[0m fig, ax \u001b[39m=\u001b[39m plt\u001b[39m.\u001b[39msubplots()\n\u001b[1;32m      5\u001b[0m \u001b[39mfor\u001b[39;00m n, cond \u001b[39min\u001b[39;00m \u001b[39menumerate\u001b[39m(np\u001b[39m.\u001b[39munique(dthresh\u001b[39m.\u001b[39mcond)):\n\u001b[0;32m----> 6\u001b[0m     ax\u001b[39m.\u001b[39;49mboxplot(dthresh\u001b[39m.\u001b[39;49mthresh[dthresh\u001b[39m.\u001b[39;49mcond \u001b[39m==\u001b[39;49m cond], positions\u001b[39m=\u001b[39;49m[n\u001b[39m+\u001b[39;49m\u001b[39m1\u001b[39;49m], notch\u001b[39m=\u001b[39;49m\u001b[39mTrue\u001b[39;49;00m)\n",
      "File \u001b[0;32m~/Data/uni/neuro_gp/visworkingmem/env/lib/python3.10/site-packages/matplotlib/__init__.py:1423\u001b[0m, in \u001b[0;36m_preprocess_data.<locals>.inner\u001b[0;34m(ax, data, *args, **kwargs)\u001b[0m\n\u001b[1;32m   1420\u001b[0m \u001b[39m@functools\u001b[39m\u001b[39m.\u001b[39mwraps(func)\n\u001b[1;32m   1421\u001b[0m \u001b[39mdef\u001b[39;00m \u001b[39minner\u001b[39m(ax, \u001b[39m*\u001b[39margs, data\u001b[39m=\u001b[39m\u001b[39mNone\u001b[39;00m, \u001b[39m*\u001b[39m\u001b[39m*\u001b[39mkwargs):\n\u001b[1;32m   1422\u001b[0m     \u001b[39mif\u001b[39;00m data \u001b[39mis\u001b[39;00m \u001b[39mNone\u001b[39;00m:\n\u001b[0;32m-> 1423\u001b[0m         \u001b[39mreturn\u001b[39;00m func(ax, \u001b[39m*\u001b[39;49m\u001b[39mmap\u001b[39;49m(sanitize_sequence, args), \u001b[39m*\u001b[39;49m\u001b[39m*\u001b[39;49mkwargs)\n\u001b[1;32m   1425\u001b[0m     bound \u001b[39m=\u001b[39m new_sig\u001b[39m.\u001b[39mbind(ax, \u001b[39m*\u001b[39margs, \u001b[39m*\u001b[39m\u001b[39m*\u001b[39mkwargs)\n\u001b[1;32m   1426\u001b[0m     auto_label \u001b[39m=\u001b[39m (bound\u001b[39m.\u001b[39marguments\u001b[39m.\u001b[39mget(label_namer)\n\u001b[1;32m   1427\u001b[0m                   \u001b[39mor\u001b[39;00m bound\u001b[39m.\u001b[39mkwargs\u001b[39m.\u001b[39mget(label_namer))\n",
      "File \u001b[0;32m~/Data/uni/neuro_gp/visworkingmem/env/lib/python3.10/site-packages/matplotlib/axes/_axes.py:3850\u001b[0m, in \u001b[0;36mAxes.boxplot\u001b[0;34m(self, x, notch, sym, vert, whis, positions, widths, patch_artist, bootstrap, usermedians, conf_intervals, meanline, showmeans, showcaps, showbox, showfliers, boxprops, labels, flierprops, medianprops, meanprops, capprops, whiskerprops, manage_ticks, autorange, zorder, capwidths)\u001b[0m\n\u001b[1;32m   3847\u001b[0m \u001b[39mif\u001b[39;00m bootstrap \u001b[39mis\u001b[39;00m \u001b[39mNone\u001b[39;00m:\n\u001b[1;32m   3848\u001b[0m     bootstrap \u001b[39m=\u001b[39m mpl\u001b[39m.\u001b[39mrcParams[\u001b[39m'\u001b[39m\u001b[39mboxplot.bootstrap\u001b[39m\u001b[39m'\u001b[39m]\n\u001b[0;32m-> 3850\u001b[0m bxpstats \u001b[39m=\u001b[39m cbook\u001b[39m.\u001b[39;49mboxplot_stats(x, whis\u001b[39m=\u001b[39;49mwhis, bootstrap\u001b[39m=\u001b[39;49mbootstrap,\n\u001b[1;32m   3851\u001b[0m                                labels\u001b[39m=\u001b[39;49mlabels, autorange\u001b[39m=\u001b[39;49mautorange)\n\u001b[1;32m   3852\u001b[0m \u001b[39mif\u001b[39;00m notch \u001b[39mis\u001b[39;00m \u001b[39mNone\u001b[39;00m:\n\u001b[1;32m   3853\u001b[0m     notch \u001b[39m=\u001b[39m mpl\u001b[39m.\u001b[39mrcParams[\u001b[39m'\u001b[39m\u001b[39mboxplot.notch\u001b[39m\u001b[39m'\u001b[39m]\n",
      "File \u001b[0;32m~/Data/uni/neuro_gp/visworkingmem/env/lib/python3.10/site-packages/matplotlib/cbook/__init__.py:1266\u001b[0m, in \u001b[0;36mboxplot_stats\u001b[0;34m(X, whis, bootstrap, labels, autorange)\u001b[0m\n\u001b[1;32m   1263\u001b[0m x \u001b[39m=\u001b[39m np\u001b[39m.\u001b[39masarray(x)\n\u001b[1;32m   1265\u001b[0m \u001b[39m# arithmetic mean\u001b[39;00m\n\u001b[0;32m-> 1266\u001b[0m stats[\u001b[39m'\u001b[39m\u001b[39mmean\u001b[39m\u001b[39m'\u001b[39m] \u001b[39m=\u001b[39m np\u001b[39m.\u001b[39;49mmean(x)\n\u001b[1;32m   1268\u001b[0m \u001b[39m# medians and quartiles\u001b[39;00m\n\u001b[1;32m   1269\u001b[0m q1, med, q3 \u001b[39m=\u001b[39m np\u001b[39m.\u001b[39mpercentile(x, [\u001b[39m25\u001b[39m, \u001b[39m50\u001b[39m, \u001b[39m75\u001b[39m])\n",
      "File \u001b[0;32m<__array_function__ internals>:180\u001b[0m, in \u001b[0;36mmean\u001b[0;34m(*args, **kwargs)\u001b[0m\n",
      "File \u001b[0;32m~/Data/uni/neuro_gp/visworkingmem/env/lib/python3.10/site-packages/numpy/core/fromnumeric.py:3432\u001b[0m, in \u001b[0;36mmean\u001b[0;34m(a, axis, dtype, out, keepdims, where)\u001b[0m\n\u001b[1;32m   3429\u001b[0m     \u001b[39melse\u001b[39;00m:\n\u001b[1;32m   3430\u001b[0m         \u001b[39mreturn\u001b[39;00m mean(axis\u001b[39m=\u001b[39maxis, dtype\u001b[39m=\u001b[39mdtype, out\u001b[39m=\u001b[39mout, \u001b[39m*\u001b[39m\u001b[39m*\u001b[39mkwargs)\n\u001b[0;32m-> 3432\u001b[0m \u001b[39mreturn\u001b[39;00m _methods\u001b[39m.\u001b[39;49m_mean(a, axis\u001b[39m=\u001b[39;49maxis, dtype\u001b[39m=\u001b[39;49mdtype,\n\u001b[1;32m   3433\u001b[0m                       out\u001b[39m=\u001b[39;49mout, \u001b[39m*\u001b[39;49m\u001b[39m*\u001b[39;49mkwargs)\n",
      "File \u001b[0;32m~/Data/uni/neuro_gp/visworkingmem/env/lib/python3.10/site-packages/numpy/core/_methods.py:192\u001b[0m, in \u001b[0;36m_mean\u001b[0;34m(a, axis, dtype, out, keepdims, where)\u001b[0m\n\u001b[1;32m    190\u001b[0m         ret \u001b[39m=\u001b[39m ret\u001b[39m.\u001b[39mdtype\u001b[39m.\u001b[39mtype(ret \u001b[39m/\u001b[39m rcount)\n\u001b[1;32m    191\u001b[0m \u001b[39melse\u001b[39;00m:\n\u001b[0;32m--> 192\u001b[0m     ret \u001b[39m=\u001b[39m ret \u001b[39m/\u001b[39;49m rcount\n\u001b[1;32m    194\u001b[0m \u001b[39mreturn\u001b[39;00m ret\n",
      "\u001b[0;31mTypeError\u001b[0m: ufunc 'divide' not supported for the input types, and the inputs could not be safely coerced to any supported types according to the casting rule ''safe''"
     ]
    }
   ],
   "source": [
    "# plot detection thresholds for two conditions\n",
    "\n",
    "fig, ax = plt.subplots()\n",
    "\n",
    "for n, cond in enumerate(np.unique(dthresh.cond)):\n",
    "    ax.boxplot(dthresh.thresh[dthresh.cond == cond], positions=[n+1], notch=True)"
   ]
  }
 ],
 "metadata": {
  "kernelspec": {
   "display_name": "Python 3.10.8 ('env')",
   "language": "python",
   "name": "python3"
  },
  "language_info": {
   "codemirror_mode": {
    "name": "ipython",
    "version": 3
   },
   "file_extension": ".py",
   "mimetype": "text/x-python",
   "name": "python",
   "nbconvert_exporter": "python",
   "pygments_lexer": "ipython3",
   "version": "3.10.8"
  },
  "orig_nbformat": 4,
  "vscode": {
   "interpreter": {
    "hash": "8183d5f85eedc6fa9db99fe944551d5f10c61e9dc12a1695d4710f9ad7cc045a"
   }
  }
 },
 "nbformat": 4,
 "nbformat_minor": 2
}
